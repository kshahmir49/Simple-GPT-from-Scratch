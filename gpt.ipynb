{
 "cells": [
  {
   "cell_type": "code",
   "execution_count": 1,
   "id": "784ad870",
   "metadata": {},
   "outputs": [
    {
     "name": "stdout",
     "output_type": "stream",
     "text": [
      "--2025-10-14 19:00:31--  https://raw.githubusercontent.com/karpathy/char-rnn/master/data/tinyshakespeare/input.txt\n",
      "Resolving raw.githubusercontent.com (raw.githubusercontent.com)... 2606:50c0:8000::154, 2606:50c0:8001::154, 2606:50c0:8002::154, ...\n",
      "Connecting to raw.githubusercontent.com (raw.githubusercontent.com)|2606:50c0:8000::154|:443... connected.\n",
      "HTTP request sent, awaiting response... 200 OK\n",
      "Length: 1115394 (1.1M) [text/plain]\n",
      "Saving to: ‘input.txt’\n",
      "\n",
      "input.txt           100%[===================>]   1.06M  1.69MB/s    in 0.6s    \n",
      "\n",
      "2025-10-14 19:00:32 (1.69 MB/s) - ‘input.txt’ saved [1115394/1115394]\n",
      "\n"
     ]
    }
   ],
   "source": [
    "# Loading raw text dataset\n",
    "\n",
    "!wget https://raw.githubusercontent.com/karpathy/char-rnn/master/data/tinyshakespeare/input.txt"
   ]
  },
  {
   "cell_type": "code",
   "execution_count": 2,
   "id": "95f3fac8",
   "metadata": {},
   "outputs": [],
   "source": [
    "with open(\"input.txt\",\"r\") as f:\n",
    "    data = f.read()"
   ]
  },
  {
   "cell_type": "code",
   "execution_count": 4,
   "id": "2206fb67",
   "metadata": {},
   "outputs": [
    {
     "name": "stdout",
     "output_type": "stream",
     "text": [
      "total characters in the data: 1115394\n",
      "total unique characters in the data: 65\n"
     ]
    }
   ],
   "source": [
    "print(\"total characters in the data:\",len(data))\n",
    "print(\"total unique characters in the data:\",len(list(set(data))))"
   ]
  },
  {
   "cell_type": "code",
   "execution_count": 5,
   "id": "c5c6a2b7",
   "metadata": {},
   "outputs": [
    {
     "name": "stdout",
     "output_type": "stream",
     "text": [
      "Tiny sample of the data\n",
      "First Citizen:\n",
      "Before we proceed any further, hear me speak.\n",
      "\n",
      "All:\n",
      "Speak, speak.\n",
      "\n",
      "First Citizen:\n",
      "You are all resolved rather to die than to famish?\n",
      "\n",
      "All:\n",
      "Resolved. resolved.\n",
      "\n",
      "First Citizen:\n",
      "First, you know Caius Marcius is chief enemy to the people.\n",
      "\n",
      "All:\n",
      "We know't, we know't.\n",
      "\n",
      "First Citizen:\n",
      "Let us kill him, and we'll have corn at our own price.\n",
      "Is't a verdict?\n",
      "\n",
      "All:\n",
      "No more talking on't; let it be done: away, away!\n",
      "\n",
      "Second Citizen:\n",
      "One word, good citizens.\n",
      "\n",
      "First Citizen:\n",
      "We are accounted poor\n"
     ]
    }
   ],
   "source": [
    "print(\"Tiny sample of the data\")\n",
    "print(data[:500])"
   ]
  },
  {
   "cell_type": "code",
   "execution_count": 7,
   "id": "745ca2e2",
   "metadata": {},
   "outputs": [
    {
     "name": "stdout",
     "output_type": "stream",
     "text": [
      "Unique characters in the data\n",
      "\n",
      " !$&',-.3:;?ABCDEFGHIJKLMNOPQRSTUVWXYZabcdefghijklmnopqrstuvwxyz\n"
     ]
    }
   ],
   "source": [
    "## Store unique char and vocab size\n",
    "unique_char = sorted(list(set(data)))\n",
    "vocab_size = len(unique_char)\n",
    "print(\"Unique characters in the data\")\n",
    "print(''.join(unique_char))"
   ]
  },
  {
   "cell_type": "code",
   "execution_count": 9,
   "id": "ff3edf4d",
   "metadata": {},
   "outputs": [
    {
     "name": "stdout",
     "output_type": "stream",
     "text": [
      "[45, 54, 58, 1, 44, 56, 53, 51, 1, 57, 41, 56, 39, 58, 41, 46]\n",
      "gpt from scratch\n"
     ]
    }
   ],
   "source": [
    "## simple text to token generation\n",
    "# create a mapping from characters to integers\n",
    "stoi = { ch:i for i,ch in enumerate(unique_char) }\n",
    "itos = { i:ch for i,ch in enumerate(unique_char) }\n",
    "encode = lambda s: [stoi[c] for c in s] # encoder: take a string, output a list of integers\n",
    "decode = lambda l: ''.join([itos[i] for i in l]) # decoder: take a list of integers, output a string\n",
    "\n",
    "ecd = encode(\"gpt from scratch\")\n",
    "print(ecd)\n",
    "print(decode(ecd))"
   ]
  },
  {
   "cell_type": "code",
   "execution_count": 12,
   "id": "13d6c99b",
   "metadata": {},
   "outputs": [
    {
     "name": "stdout",
     "output_type": "stream",
     "text": [
      "Encoded data:\n",
      " tensor([18, 47, 56, 57, 58,  1, 15, 47, 58, 47, 64, 43, 52, 10,  0, 14, 43, 44,\n",
      "        53, 56, 43,  1, 61, 43,  1, 54, 56, 53, 41, 43, 43, 42,  1, 39, 52, 63,\n",
      "         1, 44, 59, 56, 58, 46, 43, 56,  6,  1, 46, 43, 39, 56,  1, 51, 43,  1,\n",
      "        57, 54, 43, 39, 49,  8,  0,  0, 13, 50, 50, 10,  0, 31, 54, 43, 39, 49,\n",
      "         6,  1, 57, 54, 43, 39, 49,  8,  0,  0, 18, 47, 56, 57, 58,  1, 15, 47,\n",
      "        58, 47, 64, 43, 52, 10,  0, 37, 53, 59])\n"
     ]
    }
   ],
   "source": [
    "# Encode the whole data\n",
    "import torch\n",
    "encoded_data = torch.tensor(encode(data), dtype = torch.long)\n",
    "print(\"Encoded data:\\n\",encoded_data[:100])"
   ]
  },
  {
   "cell_type": "code",
   "execution_count": 13,
   "id": "0c4d1901",
   "metadata": {},
   "outputs": [],
   "source": [
    "# Train test split\n",
    "n = int(0.9*len(encoded_data))\n",
    "train_data = encoded_data[:n]\n",
    "val_data = encoded_data[n:]"
   ]
  },
  {
   "cell_type": "code",
   "execution_count": 14,
   "id": "4fb596da",
   "metadata": {},
   "outputs": [
    {
     "data": {
      "text/plain": [
       "tensor([18, 47, 56, 57, 58,  1, 15, 47, 58])"
      ]
     },
     "execution_count": 14,
     "metadata": {},
     "output_type": "execute_result"
    }
   ],
   "source": [
    "block_size = 8\n",
    "train_data[:block_size+1]"
   ]
  },
  {
   "cell_type": "code",
   "execution_count": 16,
   "id": "bc6ed204",
   "metadata": {},
   "outputs": [
    {
     "name": "stdout",
     "output_type": "stream",
     "text": [
      "when input is tensor([18]) the target is 47\n",
      "when input is tensor([18, 47]) the target is 56\n",
      "when input is tensor([18, 47, 56]) the target is 57\n",
      "when input is tensor([18, 47, 56, 57]) the target is 58\n",
      "when input is tensor([18, 47, 56, 57, 58]) the target is 1\n",
      "when input is tensor([18, 47, 56, 57, 58,  1]) the target is 15\n",
      "when input is tensor([18, 47, 56, 57, 58,  1, 15]) the target is 47\n",
      "when input is tensor([18, 47, 56, 57, 58,  1, 15, 47]) the target is 58\n"
     ]
    }
   ],
   "source": [
    "# inputs and target\n",
    "x = train_data[:block_size]\n",
    "y = train_data[1:block_size+1]\n",
    "for t in range(block_size):\n",
    "    context = x[:t+1]\n",
    "    target = y[t]\n",
    "    print(f\"when input is {context} the target is {target}\")"
   ]
  },
  {
   "cell_type": "code",
   "execution_count": 17,
   "id": "c285d533",
   "metadata": {},
   "outputs": [
    {
     "name": "stdout",
     "output_type": "stream",
     "text": [
      "inputs:\n",
      "torch.Size([4, 8])\n",
      "tensor([[43, 39, 56, 58, 57,  2,  0,  0],\n",
      "        [ 1, 45, 53, 53, 42,  1, 58, 53],\n",
      "        [44,  1, 39, 52, 53, 58, 46, 43],\n",
      "        [58, 61, 47, 52, 52,  5, 42,  1]])\n",
      "targets:\n",
      "torch.Size([4, 8])\n",
      "tensor([[39, 56, 58, 57,  2,  0,  0, 32],\n",
      "        [45, 53, 53, 42,  1, 58, 53,  1],\n",
      "        [ 1, 39, 52, 53, 58, 46, 43, 56],\n",
      "        [61, 47, 52, 52,  5, 42,  1, 50]])\n",
      "----\n",
      "when input is [43] the target is 39\n",
      "when input is [43, 39] the target is 56\n",
      "when input is [43, 39, 56] the target is 58\n",
      "when input is [43, 39, 56, 58] the target is 57\n",
      "when input is [43, 39, 56, 58, 57] the target is 2\n",
      "when input is [43, 39, 56, 58, 57, 2] the target is 0\n",
      "when input is [43, 39, 56, 58, 57, 2, 0] the target is 0\n",
      "when input is [43, 39, 56, 58, 57, 2, 0, 0] the target is 32\n",
      "when input is [1] the target is 45\n",
      "when input is [1, 45] the target is 53\n",
      "when input is [1, 45, 53] the target is 53\n",
      "when input is [1, 45, 53, 53] the target is 42\n",
      "when input is [1, 45, 53, 53, 42] the target is 1\n",
      "when input is [1, 45, 53, 53, 42, 1] the target is 58\n",
      "when input is [1, 45, 53, 53, 42, 1, 58] the target is 53\n",
      "when input is [1, 45, 53, 53, 42, 1, 58, 53] the target is 1\n",
      "when input is [44] the target is 1\n",
      "when input is [44, 1] the target is 39\n",
      "when input is [44, 1, 39] the target is 52\n",
      "when input is [44, 1, 39, 52] the target is 53\n",
      "when input is [44, 1, 39, 52, 53] the target is 58\n",
      "when input is [44, 1, 39, 52, 53, 58] the target is 46\n",
      "when input is [44, 1, 39, 52, 53, 58, 46] the target is 43\n",
      "when input is [44, 1, 39, 52, 53, 58, 46, 43] the target is 56\n",
      "when input is [58] the target is 61\n",
      "when input is [58, 61] the target is 47\n",
      "when input is [58, 61, 47] the target is 52\n",
      "when input is [58, 61, 47, 52] the target is 52\n",
      "when input is [58, 61, 47, 52, 52] the target is 5\n",
      "when input is [58, 61, 47, 52, 52, 5] the target is 42\n",
      "when input is [58, 61, 47, 52, 52, 5, 42] the target is 1\n",
      "when input is [58, 61, 47, 52, 52, 5, 42, 1] the target is 50\n"
     ]
    }
   ],
   "source": [
    "torch.manual_seed(21)\n",
    "batch_size = 4 # how many independent sequences will we process in parallel?\n",
    "block_size = 8 # what is the maximum context length for predictions?\n",
    "\n",
    "def get_batch(split):\n",
    "    # generate a small batch of data of inputs x and targets y\n",
    "    data = train_data if split == 'train' else val_data\n",
    "    ix = torch.randint(len(data) - block_size, (batch_size,))\n",
    "    x = torch.stack([data[i:i+block_size] for i in ix])\n",
    "    y = torch.stack([data[i+1:i+block_size+1] for i in ix])\n",
    "    return x, y\n",
    "\n",
    "xb, yb = get_batch('train')\n",
    "print('inputs:')\n",
    "print(xb.shape)\n",
    "print(xb)\n",
    "print('targets:')\n",
    "print(yb.shape)\n",
    "print(yb)\n",
    "\n",
    "print('----')\n",
    "\n",
    "for b in range(batch_size): # batch dimension\n",
    "    for t in range(block_size): # time dimension\n",
    "        context = xb[b, :t+1]\n",
    "        target = yb[b,t]\n",
    "        print(f\"when input is {context.tolist()} the target is {target}\")"
   ]
  },
  {
   "cell_type": "code",
   "execution_count": 18,
   "id": "7300ca1f",
   "metadata": {},
   "outputs": [
    {
     "name": "stdout",
     "output_type": "stream",
     "text": [
      "torch.Size([32, 65])\n",
      "tensor(4.7627, grad_fn=<NllLossBackward0>)\n",
      "\n",
      "DjbJGMfeLPQXfSh V,u-yFS HMcgxEOHD-EBx\n",
      "MAWG&$nUfNye.QzWRYOzfyeqQWp?XLk.N,xExh: !\n",
      "DAW- bRQOFTirDnhzA&s\n"
     ]
    }
   ],
   "source": [
    "# Simple bigram language model\n",
    "import torch.nn as nn\n",
    "from torch.nn import functional as F\n",
    "\n",
    "class BigramLanguageModel(nn.Module):\n",
    "\n",
    "    def __init__(self, vocab_size):\n",
    "        super().__init__()\n",
    "        # each token directly reads off the logits for the next token from a lookup table\n",
    "        self.token_embedding_table = nn.Embedding(vocab_size, vocab_size)\n",
    "\n",
    "    def forward(self, idx, targets=None):\n",
    "\n",
    "        # idx and targets are both (B,T) tensor of integers\n",
    "        logits = self.token_embedding_table(idx) # (B,T,C)\n",
    "\n",
    "        if targets is None:\n",
    "            loss = None\n",
    "        else:\n",
    "            B, T, C = logits.shape\n",
    "            logits = logits.view(B*T, C)\n",
    "            targets = targets.view(B*T)\n",
    "            loss = F.cross_entropy(logits, targets)\n",
    "\n",
    "        return logits, loss\n",
    "\n",
    "    def generate(self, idx, max_new_tokens):\n",
    "        # idx is (B, T) array of indices in the current context\n",
    "        for _ in range(max_new_tokens):\n",
    "            # get the predictions\n",
    "            logits, loss = self(idx)\n",
    "            # focus only on the last time step\n",
    "            logits = logits[:, -1, :] # becomes (B, C)\n",
    "            # apply softmax to get probabilities\n",
    "            probs = F.softmax(logits, dim=-1) # (B, C)\n",
    "            # sample from the distribution\n",
    "            idx_next = torch.multinomial(probs, num_samples=1) # (B, 1)\n",
    "            # append sampled index to the running sequence\n",
    "            idx = torch.cat((idx, idx_next), dim=1) # (B, T+1)\n",
    "        return idx\n",
    "\n",
    "m = BigramLanguageModel(vocab_size)\n",
    "logits, loss = m(xb, yb)\n",
    "print(logits.shape)\n",
    "print(loss)\n",
    "\n",
    "print(decode(m.generate(idx = torch.zeros((1, 1), dtype=torch.long), max_new_tokens=100)[0].tolist()))\n"
   ]
  },
  {
   "cell_type": "code",
   "execution_count": null,
   "id": "058f2288",
   "metadata": {},
   "outputs": [],
   "source": []
  }
 ],
 "metadata": {
  "kernelspec": {
   "display_name": "rlppo",
   "language": "python",
   "name": "python3"
  },
  "language_info": {
   "codemirror_mode": {
    "name": "ipython",
    "version": 3
   },
   "file_extension": ".py",
   "mimetype": "text/x-python",
   "name": "python",
   "nbconvert_exporter": "python",
   "pygments_lexer": "ipython3",
   "version": "3.10.18"
  }
 },
 "nbformat": 4,
 "nbformat_minor": 5
}
