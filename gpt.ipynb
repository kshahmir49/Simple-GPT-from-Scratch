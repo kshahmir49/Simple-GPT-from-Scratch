{
 "cells": [
  {
   "cell_type": "code",
   "execution_count": 1,
   "id": "784ad870",
   "metadata": {},
   "outputs": [
    {
     "name": "stdout",
     "output_type": "stream",
     "text": [
      "--2025-10-14 19:00:31--  https://raw.githubusercontent.com/karpathy/char-rnn/master/data/tinyshakespeare/input.txt\n",
      "Resolving raw.githubusercontent.com (raw.githubusercontent.com)... 2606:50c0:8000::154, 2606:50c0:8001::154, 2606:50c0:8002::154, ...\n",
      "Connecting to raw.githubusercontent.com (raw.githubusercontent.com)|2606:50c0:8000::154|:443... connected.\n",
      "HTTP request sent, awaiting response... 200 OK\n",
      "Length: 1115394 (1.1M) [text/plain]\n",
      "Saving to: ‘input.txt’\n",
      "\n",
      "input.txt           100%[===================>]   1.06M  1.69MB/s    in 0.6s    \n",
      "\n",
      "2025-10-14 19:00:32 (1.69 MB/s) - ‘input.txt’ saved [1115394/1115394]\n",
      "\n"
     ]
    }
   ],
   "source": [
    "# Loading raw text dataset\n",
    "\n",
    "!wget https://raw.githubusercontent.com/karpathy/char-rnn/master/data/tinyshakespeare/input.txt"
   ]
  },
  {
   "cell_type": "code",
   "execution_count": 1,
   "id": "95f3fac8",
   "metadata": {},
   "outputs": [],
   "source": [
    "with open(\"input.txt\",\"r\") as f:\n",
    "    data = f.read()"
   ]
  },
  {
   "cell_type": "code",
   "execution_count": 2,
   "id": "2206fb67",
   "metadata": {},
   "outputs": [
    {
     "name": "stdout",
     "output_type": "stream",
     "text": [
      "total characters in the data: 1115394\n",
      "total unique characters in the data: 65\n"
     ]
    }
   ],
   "source": [
    "print(\"total characters in the data:\",len(data))\n",
    "print(\"total unique characters in the data:\",len(list(set(data))))"
   ]
  },
  {
   "cell_type": "code",
   "execution_count": 3,
   "id": "c5c6a2b7",
   "metadata": {},
   "outputs": [
    {
     "name": "stdout",
     "output_type": "stream",
     "text": [
      "Tiny sample of the data\n",
      "First Citizen:\n",
      "Before we proceed any further, hear me speak.\n",
      "\n",
      "All:\n",
      "Speak, speak.\n",
      "\n",
      "First Citizen:\n",
      "You are all resolved rather to die than to famish?\n",
      "\n",
      "All:\n",
      "Resolved. resolved.\n",
      "\n",
      "First Citizen:\n",
      "First, you know Caius Marcius is chief enemy to the people.\n",
      "\n",
      "All:\n",
      "We know't, we know't.\n",
      "\n",
      "First Citizen:\n",
      "Let us kill him, and we'll have corn at our own price.\n",
      "Is't a verdict?\n",
      "\n",
      "All:\n",
      "No more talking on't; let it be done: away, away!\n",
      "\n",
      "Second Citizen:\n",
      "One word, good citizens.\n",
      "\n",
      "First Citizen:\n",
      "We are accounted poor\n"
     ]
    }
   ],
   "source": [
    "print(\"Tiny sample of the data\")\n",
    "print(data[:500])"
   ]
  },
  {
   "cell_type": "code",
   "execution_count": 4,
   "id": "745ca2e2",
   "metadata": {},
   "outputs": [
    {
     "name": "stdout",
     "output_type": "stream",
     "text": [
      "Unique characters in the data\n",
      "\n",
      " !$&',-.3:;?ABCDEFGHIJKLMNOPQRSTUVWXYZabcdefghijklmnopqrstuvwxyz\n"
     ]
    }
   ],
   "source": [
    "## Store unique char and vocab size\n",
    "unique_char = sorted(list(set(data)))\n",
    "vocab_size = len(unique_char)\n",
    "print(\"Unique characters in the data\")\n",
    "print(''.join(unique_char))"
   ]
  },
  {
   "cell_type": "code",
   "execution_count": 5,
   "id": "ff3edf4d",
   "metadata": {},
   "outputs": [
    {
     "name": "stdout",
     "output_type": "stream",
     "text": [
      "[45, 54, 58, 1, 44, 56, 53, 51, 1, 57, 41, 56, 39, 58, 41, 46]\n",
      "gpt from scratch\n"
     ]
    }
   ],
   "source": [
    "## simple text to token generation\n",
    "# create a mapping from characters to integers\n",
    "stoi = { ch:i for i,ch in enumerate(unique_char) }\n",
    "itos = { i:ch for i,ch in enumerate(unique_char) }\n",
    "encode = lambda s: [stoi[c] for c in s] # encoder: take a string, output a list of integers\n",
    "decode = lambda l: ''.join([itos[i] for i in l]) # decoder: take a list of integers, output a string\n",
    "\n",
    "ecd = encode(\"gpt from scratch\")\n",
    "print(ecd)\n",
    "print(decode(ecd))"
   ]
  },
  {
   "cell_type": "code",
   "execution_count": 6,
   "id": "13d6c99b",
   "metadata": {},
   "outputs": [
    {
     "name": "stdout",
     "output_type": "stream",
     "text": [
      "Encoded data:\n",
      " tensor([18, 47, 56, 57, 58,  1, 15, 47, 58, 47, 64, 43, 52, 10,  0, 14, 43, 44,\n",
      "        53, 56, 43,  1, 61, 43,  1, 54, 56, 53, 41, 43, 43, 42,  1, 39, 52, 63,\n",
      "         1, 44, 59, 56, 58, 46, 43, 56,  6,  1, 46, 43, 39, 56,  1, 51, 43,  1,\n",
      "        57, 54, 43, 39, 49,  8,  0,  0, 13, 50, 50, 10,  0, 31, 54, 43, 39, 49,\n",
      "         6,  1, 57, 54, 43, 39, 49,  8,  0,  0, 18, 47, 56, 57, 58,  1, 15, 47,\n",
      "        58, 47, 64, 43, 52, 10,  0, 37, 53, 59])\n"
     ]
    }
   ],
   "source": [
    "# Encode the whole data\n",
    "import torch\n",
    "encoded_data = torch.tensor(encode(data), dtype = torch.long)\n",
    "print(\"Encoded data:\\n\",encoded_data[:100])"
   ]
  },
  {
   "cell_type": "code",
   "execution_count": 7,
   "id": "0c4d1901",
   "metadata": {},
   "outputs": [],
   "source": [
    "# Train test split\n",
    "n = int(0.9*len(encoded_data))\n",
    "train_data = encoded_data[:n]\n",
    "val_data = encoded_data[n:]"
   ]
  },
  {
   "cell_type": "code",
   "execution_count": 8,
   "id": "4fb596da",
   "metadata": {},
   "outputs": [
    {
     "data": {
      "text/plain": [
       "tensor([18, 47, 56, 57, 58,  1, 15, 47, 58])"
      ]
     },
     "execution_count": 8,
     "metadata": {},
     "output_type": "execute_result"
    }
   ],
   "source": [
    "block_size = 8\n",
    "train_data[:block_size+1]"
   ]
  },
  {
   "cell_type": "code",
   "execution_count": 9,
   "id": "bc6ed204",
   "metadata": {},
   "outputs": [
    {
     "name": "stdout",
     "output_type": "stream",
     "text": [
      "when input is tensor([18]) the target is 47\n",
      "when input is tensor([18, 47]) the target is 56\n",
      "when input is tensor([18, 47, 56]) the target is 57\n",
      "when input is tensor([18, 47, 56, 57]) the target is 58\n",
      "when input is tensor([18, 47, 56, 57, 58]) the target is 1\n",
      "when input is tensor([18, 47, 56, 57, 58,  1]) the target is 15\n",
      "when input is tensor([18, 47, 56, 57, 58,  1, 15]) the target is 47\n",
      "when input is tensor([18, 47, 56, 57, 58,  1, 15, 47]) the target is 58\n"
     ]
    }
   ],
   "source": [
    "# inputs and target\n",
    "x = train_data[:block_size]\n",
    "y = train_data[1:block_size+1]\n",
    "for t in range(block_size):\n",
    "    context = x[:t+1]\n",
    "    target = y[t]\n",
    "    print(f\"when input is {context} the target is {target}\")"
   ]
  },
  {
   "cell_type": "code",
   "execution_count": 10,
   "id": "c285d533",
   "metadata": {},
   "outputs": [
    {
     "name": "stdout",
     "output_type": "stream",
     "text": [
      "inputs:\n",
      "torch.Size([4, 8])\n",
      "tensor([[43, 39, 56, 58, 57,  2,  0,  0],\n",
      "        [ 1, 45, 53, 53, 42,  1, 58, 53],\n",
      "        [44,  1, 39, 52, 53, 58, 46, 43],\n",
      "        [58, 61, 47, 52, 52,  5, 42,  1]])\n",
      "targets:\n",
      "torch.Size([4, 8])\n",
      "tensor([[39, 56, 58, 57,  2,  0,  0, 32],\n",
      "        [45, 53, 53, 42,  1, 58, 53,  1],\n",
      "        [ 1, 39, 52, 53, 58, 46, 43, 56],\n",
      "        [61, 47, 52, 52,  5, 42,  1, 50]])\n",
      "----\n",
      "when input is [43] the target is 39\n",
      "when input is [43, 39] the target is 56\n",
      "when input is [43, 39, 56] the target is 58\n",
      "when input is [43, 39, 56, 58] the target is 57\n",
      "when input is [43, 39, 56, 58, 57] the target is 2\n",
      "when input is [43, 39, 56, 58, 57, 2] the target is 0\n",
      "when input is [43, 39, 56, 58, 57, 2, 0] the target is 0\n",
      "when input is [43, 39, 56, 58, 57, 2, 0, 0] the target is 32\n",
      "when input is [1] the target is 45\n",
      "when input is [1, 45] the target is 53\n",
      "when input is [1, 45, 53] the target is 53\n",
      "when input is [1, 45, 53, 53] the target is 42\n",
      "when input is [1, 45, 53, 53, 42] the target is 1\n",
      "when input is [1, 45, 53, 53, 42, 1] the target is 58\n",
      "when input is [1, 45, 53, 53, 42, 1, 58] the target is 53\n",
      "when input is [1, 45, 53, 53, 42, 1, 58, 53] the target is 1\n",
      "when input is [44] the target is 1\n",
      "when input is [44, 1] the target is 39\n",
      "when input is [44, 1, 39] the target is 52\n",
      "when input is [44, 1, 39, 52] the target is 53\n",
      "when input is [44, 1, 39, 52, 53] the target is 58\n",
      "when input is [44, 1, 39, 52, 53, 58] the target is 46\n",
      "when input is [44, 1, 39, 52, 53, 58, 46] the target is 43\n",
      "when input is [44, 1, 39, 52, 53, 58, 46, 43] the target is 56\n",
      "when input is [58] the target is 61\n",
      "when input is [58, 61] the target is 47\n",
      "when input is [58, 61, 47] the target is 52\n",
      "when input is [58, 61, 47, 52] the target is 52\n",
      "when input is [58, 61, 47, 52, 52] the target is 5\n",
      "when input is [58, 61, 47, 52, 52, 5] the target is 42\n",
      "when input is [58, 61, 47, 52, 52, 5, 42] the target is 1\n",
      "when input is [58, 61, 47, 52, 52, 5, 42, 1] the target is 50\n"
     ]
    }
   ],
   "source": [
    "torch.manual_seed(21)\n",
    "batch_size = 4 # how many independent sequences will we process in parallel?\n",
    "block_size = 8 # what is the maximum context length for predictions?\n",
    "\n",
    "def get_batch(split):\n",
    "    # generate a small batch of data of inputs x and targets y\n",
    "    data = train_data if split == 'train' else val_data\n",
    "    ix = torch.randint(len(data) - block_size, (batch_size,))\n",
    "    x = torch.stack([data[i:i+block_size] for i in ix])\n",
    "    y = torch.stack([data[i+1:i+block_size+1] for i in ix])\n",
    "    return x, y\n",
    "\n",
    "xb, yb = get_batch('train')\n",
    "print('inputs:')\n",
    "print(xb.shape)\n",
    "print(xb)\n",
    "print('targets:')\n",
    "print(yb.shape)\n",
    "print(yb)\n",
    "\n",
    "print('----')\n",
    "\n",
    "for b in range(batch_size): # batch dimension\n",
    "    for t in range(block_size): # time dimension\n",
    "        context = xb[b, :t+1]\n",
    "        target = yb[b,t]\n",
    "        print(f\"when input is {context.tolist()} the target is {target}\")"
   ]
  },
  {
   "cell_type": "code",
   "execution_count": 11,
   "id": "7300ca1f",
   "metadata": {},
   "outputs": [
    {
     "name": "stdout",
     "output_type": "stream",
     "text": [
      "torch.Size([32, 65])\n",
      "tensor(4.7627, grad_fn=<NllLossBackward0>)\n",
      "\n",
      "DjbJGMfeLPQXfSh V,u-yFS HMcgxEOHD-EBx\n",
      "MAWG&$nUfNye.QzWRYOzfyeqQWp?XLk.N,xExh: !\n",
      "DAW- bRQOFTirDnhzA&s\n"
     ]
    }
   ],
   "source": [
    "# Simple bigram language model\n",
    "import torch.nn as nn\n",
    "from torch.nn import functional as F\n",
    "\n",
    "class BigramLanguageModel(nn.Module):\n",
    "\n",
    "    def __init__(self, vocab_size):\n",
    "        super().__init__()\n",
    "        # each token directly reads off the logits for the next token from a lookup table\n",
    "        self.token_embedding_table = nn.Embedding(vocab_size, vocab_size)\n",
    "\n",
    "    def forward(self, idx, targets=None):\n",
    "\n",
    "        # idx and targets are both (B,T) tensor of integers\n",
    "        logits = self.token_embedding_table(idx) # (B,T,C)\n",
    "\n",
    "        if targets is None:\n",
    "            loss = None\n",
    "        else:\n",
    "            B, T, C = logits.shape\n",
    "            logits = logits.view(B*T, C)\n",
    "            targets = targets.view(B*T)\n",
    "            loss = F.cross_entropy(logits, targets)\n",
    "\n",
    "        return logits, loss\n",
    "\n",
    "    def generate(self, idx, max_new_tokens):\n",
    "        # idx is (B, T) array of indices in the current context\n",
    "        for _ in range(max_new_tokens):\n",
    "            # get the predictions\n",
    "            logits, loss = self(idx)\n",
    "            # focus only on the last time step\n",
    "            logits = logits[:, -1, :] # becomes (B, C)\n",
    "            # apply softmax to get probabilities\n",
    "            probs = F.softmax(logits, dim=-1) # (B, C)\n",
    "            # sample from the distribution\n",
    "            idx_next = torch.multinomial(probs, num_samples=1) # (B, 1)\n",
    "            # append sampled index to the running sequence\n",
    "            idx = torch.cat((idx, idx_next), dim=1) # (B, T+1)\n",
    "        return idx\n",
    "\n",
    "m = BigramLanguageModel(vocab_size)\n",
    "logits, loss = m(xb, yb)\n",
    "print(logits.shape)\n",
    "print(loss)\n",
    "\n",
    "print(decode(m.generate(idx = torch.zeros((1, 1), dtype=torch.long), max_new_tokens=100)[0].tolist()))\n"
   ]
  },
  {
   "cell_type": "code",
   "execution_count": 24,
   "id": "c5caaa3c",
   "metadata": {},
   "outputs": [
    {
     "data": {
      "text/plain": [
       "tensor([[[ 0.4091,  0.5536, -0.6355,  ...,  0.2315,  0.7595, -0.1151],\n",
       "         [-0.8714,  0.3461,  1.5941,  ..., -1.5589,  0.5345,  2.0063],\n",
       "         [ 0.9967,  0.2983, -0.2620,  ...,  0.1545, -0.4561, -1.4559],\n",
       "         ...,\n",
       "         [ 0.3117, -0.2086, -2.4545,  ..., -0.4868,  2.5360,  0.2891],\n",
       "         [-0.4060,  1.3679, -0.6643,  ...,  0.9013,  0.3211,  0.4461],\n",
       "         [-0.4060,  1.3679, -0.6643,  ...,  0.9013,  0.3211,  0.4461]],\n",
       "\n",
       "        [[ 1.6119, -0.6937,  0.3052,  ...,  0.1244, -0.4948,  1.2786],\n",
       "         [ 0.9485,  1.9939, -1.1560,  ...,  1.8434, -1.4623, -1.0992],\n",
       "         [-0.3712, -0.5019, -0.3782,  ..., -2.1009, -0.0803,  0.4078],\n",
       "         ...,\n",
       "         [ 1.6119, -0.6937,  0.3052,  ...,  0.1244, -0.4948,  1.2786],\n",
       "         [-0.7149,  1.6099,  1.5141,  ...,  3.7616,  0.7390,  1.1754],\n",
       "         [-0.3712, -0.5019, -0.3782,  ..., -2.1009, -0.0803,  0.4078]],\n",
       "\n",
       "        [[ 0.3379, -0.5611, -0.1635,  ...,  0.1496,  0.9633,  0.1509],\n",
       "         [ 1.6119, -0.6937,  0.3052,  ...,  0.1244, -0.4948,  1.2786],\n",
       "         [-0.8714,  0.3461,  1.5941,  ..., -1.5589,  0.5345,  2.0063],\n",
       "         ...,\n",
       "         [-0.7149,  1.6099,  1.5141,  ...,  3.7616,  0.7390,  1.1754],\n",
       "         [ 0.7316, -1.7649, -1.7284,  ..., -1.0193, -0.7175, -0.4665],\n",
       "         [ 0.4091,  0.5536, -0.6355,  ...,  0.2315,  0.7595, -0.1151]],\n",
       "\n",
       "        [[-0.7149,  1.6099,  1.5141,  ...,  3.7616,  0.7390,  1.1754],\n",
       "         [-0.2156,  1.2296,  2.0125,  ...,  0.9014, -1.1239, -0.7739],\n",
       "         [ 1.6779,  1.5706,  0.0186,  ..., -0.0358,  0.1566,  1.1346],\n",
       "         ...,\n",
       "         [-0.7490,  0.3731,  0.8159,  ...,  0.9351, -0.5633,  0.9911],\n",
       "         [ 0.5286,  0.3999,  1.0047,  ...,  0.3206,  1.8475,  1.2950],\n",
       "         [ 1.6119, -0.6937,  0.3052,  ...,  0.1244, -0.4948,  1.2786]]],\n",
       "       grad_fn=<EmbeddingBackward0>)"
      ]
     },
     "execution_count": 24,
     "metadata": {},
     "output_type": "execute_result"
    }
   ],
   "source": [
    "nn.Embedding(vocab_size, vocab_size)(xb)"
   ]
  },
  {
   "cell_type": "code",
   "execution_count": 25,
   "id": "07dfd294",
   "metadata": {},
   "outputs": [
    {
     "data": {
      "text/plain": [
       "tensor([39, 56, 58, 57,  2,  0,  0, 32, 45, 53, 53, 42,  1, 58, 53,  1,  1, 39,\n",
       "        52, 53, 58, 46, 43, 56, 61, 47, 52, 52,  5, 42,  1, 50])"
      ]
     },
     "execution_count": 25,
     "metadata": {},
     "output_type": "execute_result"
    }
   ],
   "source": [
    "yb.view(32)"
   ]
  },
  {
   "cell_type": "code",
   "execution_count": 26,
   "id": "058f2288",
   "metadata": {},
   "outputs": [],
   "source": [
    "# optimizer\n",
    "optimizer = torch.optim.AdamW(m.parameters(), lr=1e-3)"
   ]
  },
  {
   "cell_type": "code",
   "execution_count": 27,
   "id": "8bdc5532",
   "metadata": {},
   "outputs": [
    {
     "name": "stdout",
     "output_type": "stream",
     "text": [
      "2.397651195526123\n"
     ]
    }
   ],
   "source": [
    "batch_size = 32\n",
    "for steps in range(100000):\n",
    "\n",
    "    # sample a batch of data\n",
    "    xb, yb = get_batch('train')\n",
    "\n",
    "    # evaluate the loss\n",
    "    logits, loss = m(xb, yb)\n",
    "    optimizer.zero_grad(set_to_none=True)\n",
    "    loss.backward()\n",
    "    optimizer.step()\n",
    "\n",
    "print(loss.item())\n"
   ]
  },
  {
   "cell_type": "code",
   "execution_count": 28,
   "id": "2a92bbf8",
   "metadata": {},
   "outputs": [
    {
     "name": "stdout",
     "output_type": "stream",
     "text": [
      "\n",
      "EShise\n",
      "Co, NTILAcoutit; hat l d be seimyoyond s pon jathaswele.\n",
      "S:\n",
      "\n",
      "\n",
      "\n",
      "\n",
      "I'se bomode.\n",
      "NT:\n",
      "Hind! od hir tiloubuchered RESAnt hthatoo e my don, ain he scorinond hend mbethatik my; h onibld h!\n",
      "NGRIELO, aco angofe se.\n",
      "OLERLAlf\n",
      "Irte the acough,\n",
      "Herdrr sthe w'lina RERDooplish ayourdids auringhit bame e, an.\n",
      "Wht.\n",
      "Arvin bsive w ors bonas wain fo,' mises ck ard musoureallo RD ay painis us wn w:\n",
      "Wham! u pave avealily.\n",
      "\n",
      "\n",
      "May bardin Wevyengith ayoun cl t we finoustorans thendnte wheentonanwavery athichitanoor\n"
     ]
    }
   ],
   "source": [
    "print(decode(m.generate(idx = torch.zeros((1, 1), dtype=torch.long), max_new_tokens=500)[0].tolist()))"
   ]
  },
  {
   "cell_type": "code",
   "execution_count": 30,
   "id": "a02a700d",
   "metadata": {},
   "outputs": [
    {
     "data": {
      "text/plain": [
       "tensor([[ 0.1839, -0.0461],\n",
       "        [-2.3070,  0.1532],\n",
       "        [-0.6190,  0.8345],\n",
       "        [-1.3548,  0.8263],\n",
       "        [-0.2921, -0.6292],\n",
       "        [ 0.5261, -1.2520],\n",
       "        [-1.2366,  1.0383],\n",
       "        [-0.1763, -0.4746]])"
      ]
     },
     "execution_count": 30,
     "metadata": {},
     "output_type": "execute_result"
    }
   ],
   "source": [
    "# matric tricks\n",
    "B,T,C = 4,8,2\n",
    "x = torch.randn(B,T,C)\n",
    "x[0]"
   ]
  },
  {
   "cell_type": "code",
   "execution_count": 31,
   "id": "5a224e3d",
   "metadata": {},
   "outputs": [
    {
     "data": {
      "text/plain": [
       "tensor([[1., 1., 1., 1., 1., 1., 1., 1.],\n",
       "        [1., 1., 1., 1., 1., 1., 1., 1.],\n",
       "        [1., 1., 1., 1., 1., 1., 1., 1.],\n",
       "        [1., 1., 1., 1., 1., 1., 1., 1.],\n",
       "        [1., 1., 1., 1., 1., 1., 1., 1.],\n",
       "        [1., 1., 1., 1., 1., 1., 1., 1.],\n",
       "        [1., 1., 1., 1., 1., 1., 1., 1.],\n",
       "        [1., 1., 1., 1., 1., 1., 1., 1.]])"
      ]
     },
     "execution_count": 31,
     "metadata": {},
     "output_type": "execute_result"
    }
   ],
   "source": [
    "ones = torch.ones(T,T)\n",
    "ones"
   ]
  },
  {
   "cell_type": "code",
   "execution_count": 34,
   "id": "82b92155",
   "metadata": {},
   "outputs": [
    {
     "data": {
      "text/plain": [
       "tensor([[ 0.1839, -0.0461],\n",
       "        [-2.3070,  0.1532],\n",
       "        [-0.6190,  0.8345],\n",
       "        [-1.3548,  0.8263],\n",
       "        [-0.2921, -0.6292],\n",
       "        [ 0.5261, -1.2520],\n",
       "        [-1.2366,  1.0383],\n",
       "        [-0.1763, -0.4746]])"
      ]
     },
     "execution_count": 34,
     "metadata": {},
     "output_type": "execute_result"
    }
   ],
   "source": [
    "x[0]"
   ]
  },
  {
   "cell_type": "code",
   "execution_count": 33,
   "id": "048fcdc9",
   "metadata": {},
   "outputs": [
    {
     "data": {
      "text/plain": [
       "tensor([[-5.2759,  0.4504],\n",
       "        [-5.2759,  0.4504],\n",
       "        [-5.2759,  0.4504],\n",
       "        [-5.2759,  0.4504],\n",
       "        [-5.2759,  0.4504],\n",
       "        [-5.2759,  0.4504],\n",
       "        [-5.2759,  0.4504],\n",
       "        [-5.2759,  0.4504]])"
      ]
     },
     "execution_count": 33,
     "metadata": {},
     "output_type": "execute_result"
    }
   ],
   "source": [
    "ones @ x[0]"
   ]
  },
  {
   "cell_type": "code",
   "execution_count": 35,
   "id": "be9224cf",
   "metadata": {},
   "outputs": [
    {
     "data": {
      "text/plain": [
       "tensor([[1., 0., 0., 0., 0., 0., 0., 0.],\n",
       "        [1., 1., 0., 0., 0., 0., 0., 0.],\n",
       "        [1., 1., 1., 0., 0., 0., 0., 0.],\n",
       "        [1., 1., 1., 1., 0., 0., 0., 0.],\n",
       "        [1., 1., 1., 1., 1., 0., 0., 0.],\n",
       "        [1., 1., 1., 1., 1., 1., 0., 0.],\n",
       "        [1., 1., 1., 1., 1., 1., 1., 0.],\n",
       "        [1., 1., 1., 1., 1., 1., 1., 1.]])"
      ]
     },
     "execution_count": 35,
     "metadata": {},
     "output_type": "execute_result"
    }
   ],
   "source": [
    "ones = torch.tril(torch.ones(T,T))\n",
    "ones"
   ]
  },
  {
   "cell_type": "code",
   "execution_count": 36,
   "id": "e96eecab",
   "metadata": {},
   "outputs": [
    {
     "data": {
      "text/plain": [
       "tensor([[ 0.1839, -0.0461],\n",
       "        [-2.3070,  0.1532],\n",
       "        [-0.6190,  0.8345],\n",
       "        [-1.3548,  0.8263],\n",
       "        [-0.2921, -0.6292],\n",
       "        [ 0.5261, -1.2520],\n",
       "        [-1.2366,  1.0383],\n",
       "        [-0.1763, -0.4746]])"
      ]
     },
     "execution_count": 36,
     "metadata": {},
     "output_type": "execute_result"
    }
   ],
   "source": [
    "x[0]"
   ]
  },
  {
   "cell_type": "code",
   "execution_count": 38,
   "id": "fa96bdbe",
   "metadata": {},
   "outputs": [
    {
     "data": {
      "text/plain": [
       "tensor([[ 0.1839, -0.0461],\n",
       "        [-2.1231,  0.1071],\n",
       "        [-2.7421,  0.9416],\n",
       "        [-4.0969,  1.7679],\n",
       "        [-4.3890,  1.1387],\n",
       "        [-3.8629, -0.1133],\n",
       "        [-5.0995,  0.9250],\n",
       "        [-5.2759,  0.4504]])"
      ]
     },
     "execution_count": 38,
     "metadata": {},
     "output_type": "execute_result"
    }
   ],
   "source": [
    "ones @ x[0]"
   ]
  },
  {
   "cell_type": "code",
   "execution_count": 39,
   "id": "cffd43ba",
   "metadata": {},
   "outputs": [],
   "source": [
    "# lower triangle matrix gives running sum of tokens!"
   ]
  },
  {
   "cell_type": "code",
   "execution_count": 40,
   "id": "799cd562",
   "metadata": {},
   "outputs": [],
   "source": [
    "# taking row-wise mean gives the running average of token\n",
    "ones = ones/torch.sum(ones, 1, keepdim=True)"
   ]
  },
  {
   "cell_type": "code",
   "execution_count": 41,
   "id": "f86bdd1c",
   "metadata": {},
   "outputs": [
    {
     "data": {
      "text/plain": [
       "tensor([[1.0000, 0.0000, 0.0000, 0.0000, 0.0000, 0.0000, 0.0000, 0.0000],\n",
       "        [0.5000, 0.5000, 0.0000, 0.0000, 0.0000, 0.0000, 0.0000, 0.0000],\n",
       "        [0.3333, 0.3333, 0.3333, 0.0000, 0.0000, 0.0000, 0.0000, 0.0000],\n",
       "        [0.2500, 0.2500, 0.2500, 0.2500, 0.0000, 0.0000, 0.0000, 0.0000],\n",
       "        [0.2000, 0.2000, 0.2000, 0.2000, 0.2000, 0.0000, 0.0000, 0.0000],\n",
       "        [0.1667, 0.1667, 0.1667, 0.1667, 0.1667, 0.1667, 0.0000, 0.0000],\n",
       "        [0.1429, 0.1429, 0.1429, 0.1429, 0.1429, 0.1429, 0.1429, 0.0000],\n",
       "        [0.1250, 0.1250, 0.1250, 0.1250, 0.1250, 0.1250, 0.1250, 0.1250]])"
      ]
     },
     "execution_count": 41,
     "metadata": {},
     "output_type": "execute_result"
    }
   ],
   "source": [
    "ones"
   ]
  },
  {
   "cell_type": "code",
   "execution_count": 42,
   "id": "ba0c15a6",
   "metadata": {},
   "outputs": [
    {
     "data": {
      "text/plain": [
       "tensor([[ 0.1839, -0.0461],\n",
       "        [-1.0616,  0.0536],\n",
       "        [-0.9140,  0.3139],\n",
       "        [-1.0242,  0.4420],\n",
       "        [-0.8778,  0.2277],\n",
       "        [-0.6438, -0.0189],\n",
       "        [-0.7285,  0.1321],\n",
       "        [-0.6595,  0.0563]])"
      ]
     },
     "execution_count": 42,
     "metadata": {},
     "output_type": "execute_result"
    }
   ],
   "source": [
    "ones @ x[0]"
   ]
  },
  {
   "cell_type": "code",
   "execution_count": 45,
   "id": "8722423a",
   "metadata": {},
   "outputs": [
    {
     "data": {
      "text/plain": [
       "tensor([[ 0.1839, -0.0461],\n",
       "        [-1.0616,  0.0536],\n",
       "        [-0.9140,  0.3139],\n",
       "        [-1.0242,  0.4420],\n",
       "        [-0.8778,  0.2277],\n",
       "        [-0.6438, -0.0189],\n",
       "        [-0.7285,  0.1321],\n",
       "        [-0.6595,  0.0563]])"
      ]
     },
     "execution_count": 45,
     "metadata": {},
     "output_type": "execute_result"
    }
   ],
   "source": [
    "# another version using softmax to get the running average of tokens\n",
    "tril = torch.tril(torch.ones(T,T))\n",
    "wei = torch.zeros((T,T))\n",
    "wei = wei.masked_fill(tril==0, float('-inf'))\n",
    "wei = F.softmax(wei, dim=-1)\n",
    "xbow = wei @ x\n",
    "xbow[0]"
   ]
  },
  {
   "cell_type": "code",
   "execution_count": 50,
   "id": "95b7447d",
   "metadata": {},
   "outputs": [
    {
     "data": {
      "text/plain": [
       "tensor([[-0.0116,  0.3514,  0.4815,  0.1246,  0.4435,  0.7315,  0.6309, -1.0015,\n",
       "          0.4592, -0.1097, -0.8395, -0.1097,  0.6435,  0.5284, -0.2838, -0.3912],\n",
       "        [-0.3066, -0.8024,  0.1620, -0.5296,  0.5885,  0.3834,  0.3314, -0.6656,\n",
       "          0.8035, -0.1144,  0.1087,  0.0571,  0.2831, -0.6898, -0.3565,  0.0056],\n",
       "        [-0.3922, -0.9258,  0.3465, -0.4881,  0.3832, -0.0345,  0.2314, -0.7179,\n",
       "          0.5428,  0.1856,  0.0660,  0.3425, -0.0366, -0.1870, -0.5295,  0.1066],\n",
       "        [-0.1240,  0.0973,  0.4636,  0.0434,  0.3841,  0.4899,  0.5227, -0.8830,\n",
       "          0.3926, -0.0197, -0.6146,  0.0302,  0.4134,  0.4579, -0.3454, -0.2588],\n",
       "        [-0.1404,  0.0788,  0.4966,  0.0794,  0.3397,  0.4890,  0.4762, -0.8463,\n",
       "          0.3142,  0.0170, -0.5917,  0.0414,  0.3786,  0.5177, -0.3627, -0.2426],\n",
       "        [-0.5229, -0.6839,  0.3790,  0.0156,  0.0950,  0.2815, -0.0912, -0.0421,\n",
       "         -0.0946,  0.0888,  0.4014,  0.1032, -0.1556, -0.0015, -0.4179,  0.1658],\n",
       "        [-0.4787,  0.2524,  0.0194,  0.4474,  0.0240,  0.0305,  0.2080,  0.3676,\n",
       "         -0.1144, -0.3183,  0.2601, -0.1015, -0.2142, -0.0435,  0.0070,  0.0887],\n",
       "        [-0.5000,  0.2000,  0.0723, -0.0220, -0.1854, -0.2305,  0.0878,  0.2392,\n",
       "          0.2741, -0.5661, -0.0886, -0.6467,  0.1955,  0.6453, -0.1349, -0.0605]],\n",
       "       grad_fn=<SelectBackward0>)"
      ]
     },
     "execution_count": 50,
     "metadata": {},
     "output_type": "execute_result"
    }
   ],
   "source": [
    "# Self attention\n",
    "B,T,C = 4,8,32\n",
    "x = torch.randn(B,T,C)\n",
    "\n",
    "# implement single head of self-attention\n",
    "head_size = 16\n",
    "key = nn.Linear(C, head_size, bias=False)\n",
    "query = nn.Linear(C, head_size, bias=False)\n",
    "value = nn.Linear(C, head_size, bias=False)\n",
    "k = key(x)\n",
    "q = query(x)\n",
    "wei = q @ k.transpose(-2,-1) # -> (B, T, T)\n",
    "\n",
    "tril = torch.tril(torch.ones(T,T))\n",
    "# wei = torch.zeros((T,T))\n",
    "wei = wei.masked_fill(tril==0, float('-inf'))\n",
    "wei = F.softmax(wei, dim=-1)\n",
    "v = value(x)\n",
    "out = wei @ v\n",
    "out[0]"
   ]
  },
  {
   "cell_type": "code",
   "execution_count": 51,
   "id": "a3c4b505",
   "metadata": {},
   "outputs": [
    {
     "data": {
      "text/plain": [
       "tensor([[[1.0000, 0.0000, 0.0000, 0.0000, 0.0000, 0.0000, 0.0000, 0.0000],\n",
       "         [0.3644, 0.6356, 0.0000, 0.0000, 0.0000, 0.0000, 0.0000, 0.0000],\n",
       "         [0.1956, 0.4044, 0.4000, 0.0000, 0.0000, 0.0000, 0.0000, 0.0000],\n",
       "         [0.7698, 0.0391, 0.1487, 0.0425, 0.0000, 0.0000, 0.0000, 0.0000],\n",
       "         [0.7474, 0.0021, 0.1546, 0.0493, 0.0467, 0.0000, 0.0000, 0.0000],\n",
       "         [0.0426, 0.1997, 0.0759, 0.2358, 0.3924, 0.0536, 0.0000, 0.0000],\n",
       "         [0.0163, 0.0742, 0.0927, 0.5942, 0.0254, 0.0496, 0.1477, 0.0000],\n",
       "         [0.0359, 0.0012, 0.0565, 0.0105, 0.0615, 0.7301, 0.0777, 0.0266]],\n",
       "\n",
       "        [[1.0000, 0.0000, 0.0000, 0.0000, 0.0000, 0.0000, 0.0000, 0.0000],\n",
       "         [0.5057, 0.4943, 0.0000, 0.0000, 0.0000, 0.0000, 0.0000, 0.0000],\n",
       "         [0.1390, 0.2375, 0.6235, 0.0000, 0.0000, 0.0000, 0.0000, 0.0000],\n",
       "         [0.1476, 0.0479, 0.0456, 0.7589, 0.0000, 0.0000, 0.0000, 0.0000],\n",
       "         [0.0864, 0.0389, 0.7824, 0.0612, 0.0311, 0.0000, 0.0000, 0.0000],\n",
       "         [0.0388, 0.0561, 0.1028, 0.5239, 0.0402, 0.2382, 0.0000, 0.0000],\n",
       "         [0.0467, 0.0040, 0.0276, 0.5874, 0.0224, 0.2833, 0.0285, 0.0000],\n",
       "         [0.5093, 0.0920, 0.0385, 0.0079, 0.1559, 0.0436, 0.0269, 0.1260]],\n",
       "\n",
       "        [[1.0000, 0.0000, 0.0000, 0.0000, 0.0000, 0.0000, 0.0000, 0.0000],\n",
       "         [0.9589, 0.0411, 0.0000, 0.0000, 0.0000, 0.0000, 0.0000, 0.0000],\n",
       "         [0.8583, 0.0894, 0.0523, 0.0000, 0.0000, 0.0000, 0.0000, 0.0000],\n",
       "         [0.6444, 0.1540, 0.0485, 0.1531, 0.0000, 0.0000, 0.0000, 0.0000],\n",
       "         [0.0103, 0.4382, 0.1362, 0.0588, 0.3565, 0.0000, 0.0000, 0.0000],\n",
       "         [0.1180, 0.0458, 0.1109, 0.2304, 0.3671, 0.1278, 0.0000, 0.0000],\n",
       "         [0.0363, 0.1106, 0.3254, 0.0474, 0.0857, 0.2662, 0.1283, 0.0000],\n",
       "         [0.0211, 0.0601, 0.3171, 0.3327, 0.0741, 0.0566, 0.0737, 0.0647]],\n",
       "\n",
       "        [[1.0000, 0.0000, 0.0000, 0.0000, 0.0000, 0.0000, 0.0000, 0.0000],\n",
       "         [0.1702, 0.8298, 0.0000, 0.0000, 0.0000, 0.0000, 0.0000, 0.0000],\n",
       "         [0.0560, 0.8559, 0.0881, 0.0000, 0.0000, 0.0000, 0.0000, 0.0000],\n",
       "         [0.0124, 0.8335, 0.0262, 0.1279, 0.0000, 0.0000, 0.0000, 0.0000],\n",
       "         [0.0306, 0.3211, 0.0961, 0.5203, 0.0319, 0.0000, 0.0000, 0.0000],\n",
       "         [0.0730, 0.0528, 0.1855, 0.1028, 0.1048, 0.4811, 0.0000, 0.0000],\n",
       "         [0.0465, 0.1117, 0.1687, 0.0742, 0.1482, 0.0921, 0.3585, 0.0000],\n",
       "         [0.0886, 0.0091, 0.0121, 0.2343, 0.0191, 0.0121, 0.0320, 0.5926]]],\n",
       "       grad_fn=<SoftmaxBackward0>)"
      ]
     },
     "execution_count": 51,
     "metadata": {},
     "output_type": "execute_result"
    }
   ],
   "source": [
    "wei"
   ]
  },
  {
   "cell_type": "code",
   "execution_count": 54,
   "id": "08daec6a",
   "metadata": {},
   "outputs": [
    {
     "data": {
      "text/plain": [
       "tensor([[-0.0116,  0.3514,  0.4815,  0.1246,  0.4435,  0.7315,  0.6309, -1.0015,\n",
       "          0.4592, -0.1097, -0.8395, -0.1097,  0.6435,  0.5284, -0.2838, -0.3912],\n",
       "        [-0.4757, -1.4637, -0.0211, -0.9046,  0.6716,  0.1838,  0.1597, -0.4730,\n",
       "          1.0009, -0.1171,  0.6522,  0.1527,  0.0766, -1.3881, -0.3982,  0.2330],\n",
       "        [-0.4940, -1.0064,  0.6523, -0.3667,  0.0622, -0.6298,  0.1085, -0.8268,\n",
       "          0.1205,  0.6361, -0.0840,  0.7555, -0.4836,  0.6775, -0.7825,  0.2221],\n",
       "        [-0.5430,  0.7927, -0.0746,  0.8800,  0.1699,  0.3133,  0.3455,  0.6900,\n",
       "         -0.4220, -0.5952,  0.4393, -0.0865, -0.3057,  0.1110,  0.1173,  0.0049],\n",
       "        [-0.5919, -1.3770,  0.8482,  0.0309, -0.2373,  0.5116, -0.6309, -0.0641,\n",
       "         -0.6199,  0.6478,  0.5518,  0.2266, -0.2713,  0.3297, -0.7412,  0.3171],\n",
       "        [-0.5530,  0.4339, -0.0379, -0.0158, -0.1806, -0.2453,  0.1485,  0.3778,\n",
       "          0.3647, -0.8460, -0.1273, -0.9049,  0.3157,  0.8631, -0.0692, -0.1219],\n",
       "        [-0.2193, -0.0612, -0.1536,  0.1593, -0.8445, -0.8372, -0.1409,  0.4641,\n",
       "          0.2781,  0.0835, -0.2406, -0.6129, -0.0858, -0.8738,  0.4488,  0.3538],\n",
       "        [-0.3089,  0.3856,  0.2400, -0.6274,  0.1746, -0.4531, -0.1309,  0.2737,\n",
       "          0.1617, -0.7685,  0.6990,  0.3605, -0.1642,  0.2247, -0.7525, -0.6481]],\n",
       "       grad_fn=<SelectBackward0>)"
      ]
     },
     "execution_count": 54,
     "metadata": {},
     "output_type": "execute_result"
    }
   ],
   "source": [
    "v[0]"
   ]
  },
  {
   "cell_type": "code",
   "execution_count": null,
   "id": "d59394b5",
   "metadata": {},
   "outputs": [],
   "source": []
  }
 ],
 "metadata": {
  "kernelspec": {
   "display_name": "rlppo",
   "language": "python",
   "name": "python3"
  },
  "language_info": {
   "codemirror_mode": {
    "name": "ipython",
    "version": 3
   },
   "file_extension": ".py",
   "mimetype": "text/x-python",
   "name": "python",
   "nbconvert_exporter": "python",
   "pygments_lexer": "ipython3",
   "version": "3.10.18"
  }
 },
 "nbformat": 4,
 "nbformat_minor": 5
}
